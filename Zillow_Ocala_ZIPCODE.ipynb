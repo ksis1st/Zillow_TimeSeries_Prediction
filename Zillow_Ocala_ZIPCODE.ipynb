{
 "cells": [
  {
   "cell_type": "markdown",
   "metadata": {},
   "source": [
    "### CASE : \n",
    "- To do analysis--by utilizing Zillow's housing data and suggest the best real estate zip codes to invest in Ocala Florida today."
   ]
  },
  {
   "cell_type": "markdown",
   "metadata": {},
   "source": [
    "### Goal : \n",
    "- To Predict the best two ZIPCODES to invest to have assured returns"
   ]
  },
  {
   "cell_type": "markdown",
   "metadata": {},
   "source": [
    "### Assumption:\n",
    "- You are an investor with a minimum of $125,000 to deploy upfront.\n",
    "- Your time horizon for investment is Minimum 3years and Max 10 years (this is not a liquid investment).\n",
    "- You seek to maximize growth potential by tapping into home value appreciation in\"Horse Capital of the World\" OCALA\n",
    "- You are aware that all the returns are subject to future market condition and the investment is going to be a calculated risk."
   ]
  },
  {
   "cell_type": "markdown",
   "metadata": {},
   "source": [
    "### Why OCALA:\n",
    "- Ocala is one of only five cities (four in the US and one in France) permitted under Chamber of Commerce guidelines to use the title, \"Horse Capital of the World\", based on annual revenue produced by the horse industry\n",
    "- In the last decades of the twentieth century, the greater Ocala area had one of the highest growth rates in the country for a city its size. \n",
    "- There are 30 elementary, ten middle and ten public high schools in Marion County"
   ]
  },
  {
   "cell_type": "markdown",
   "metadata": {},
   "source": [
    "### Load the Data/Filtering for Chosen Zipcodes"
   ]
  },
  {
   "cell_type": "code",
   "execution_count": null,
   "metadata": {
    "ExecuteTime": {
     "start_time": "2021-03-04T13:16:48.137Z"
    }
   },
   "outputs": [],
   "source": [
    "import pandas as pd\n",
    "import numpy as np\n",
    "import matplotlib.pyplot as plt\n",
    "%matplotlib inline \n",
    "import datetime\n",
    "import seaborn as sns\n",
    "pd.set_option('display.max_columns',500)\n",
    "pd.set_option('display.max_rows', 500)\n",
    "pd.set_option('display.width', 1000)\n",
    "import plotly.graph_objects as go"
   ]
  },
  {
   "cell_type": "code",
   "execution_count": null,
   "metadata": {
    "ExecuteTime": {
     "start_time": "2021-03-04T13:16:48.150Z"
    }
   },
   "outputs": [],
   "source": [
    "df=pd.read_csv(\"zillow_data.csv\")"
   ]
  },
  {
   "cell_type": "code",
   "execution_count": null,
   "metadata": {
    "ExecuteTime": {
     "start_time": "2021-03-04T13:16:48.156Z"
    }
   },
   "outputs": [],
   "source": [
    "df.shape"
   ]
  },
  {
   "cell_type": "code",
   "execution_count": null,
   "metadata": {
    "ExecuteTime": {
     "start_time": "2021-03-04T13:16:48.168Z"
    }
   },
   "outputs": [],
   "source": [
    "df.head() "
   ]
  },
  {
   "cell_type": "code",
   "execution_count": null,
   "metadata": {
    "ExecuteTime": {
     "start_time": "2021-03-04T13:16:48.173Z"
    }
   },
   "outputs": [],
   "source": [
    "df.info() "
   ]
  },
  {
   "cell_type": "code",
   "execution_count": null,
   "metadata": {
    "ExecuteTime": {
     "start_time": "2021-03-04T13:16:48.178Z"
    }
   },
   "outputs": [],
   "source": [
    "df['City'].value_counts() "
   ]
  },
  {
   "cell_type": "markdown",
   "metadata": {},
   "source": [
    "#### Getting only null columns"
   ]
  },
  {
   "cell_type": "code",
   "execution_count": null,
   "metadata": {
    "ExecuteTime": {
     "start_time": "2021-03-04T13:16:48.184Z"
    }
   },
   "outputs": [],
   "source": [
    "null_columns = df.columns[df.isnull().any()]\n",
    "df[null_columns].isnull().sum()\n",
    "#print(df[df.isnull().any(axis=1)][null_columns].head()) "
   ]
  },
  {
   "cell_type": "markdown",
   "metadata": {},
   "source": [
    "#### Dropping all rows with null values in all 272 columns"
   ]
  },
  {
   "cell_type": "code",
   "execution_count": null,
   "metadata": {
    "ExecuteTime": {
     "start_time": "2021-03-04T13:16:48.189Z"
    }
   },
   "outputs": [],
   "source": [
    "df= df.dropna(thresh=272) "
   ]
  },
  {
   "cell_type": "code",
   "execution_count": null,
   "metadata": {
    "ExecuteTime": {
     "start_time": "2021-03-04T13:16:48.195Z"
    }
   },
   "outputs": [],
   "source": [
    "df.shape"
   ]
  },
  {
   "cell_type": "code",
   "execution_count": null,
   "metadata": {
    "ExecuteTime": {
     "start_time": "2021-03-04T13:16:48.200Z"
    }
   },
   "outputs": [],
   "source": [
    "df.isnull().any()"
   ]
  },
  {
   "cell_type": "markdown",
   "metadata": {},
   "source": [
    "##### Observation: City , State, Metro & County Name are four Object based columns\n",
    "\n",
    "* The data time line is monthly from 1996-Apr to 2018 Apr \n",
    "* RegionName column looks like the ZipCode column"
   ]
  },
  {
   "cell_type": "markdown",
   "metadata": {},
   "source": [
    "#### Finding Number of Unique value for the columns"
   ]
  },
  {
   "cell_type": "code",
   "execution_count": null,
   "metadata": {
    "ExecuteTime": {
     "start_time": "2021-03-04T13:16:48.207Z"
    }
   },
   "outputs": [],
   "source": [
    "df.iloc[:,0:8].nunique()"
   ]
  },
  {
   "cell_type": "code",
   "execution_count": null,
   "metadata": {
    "ExecuteTime": {
     "start_time": "2021-03-04T13:16:48.222Z"
    }
   },
   "outputs": [],
   "source": [
    "df.describe() "
   ]
  },
  {
   "cell_type": "markdown",
   "metadata": {},
   "source": [
    "##### Working on City column & RegionName(Zip code)"
   ]
  },
  {
   "cell_type": "code",
   "execution_count": null,
   "metadata": {
    "ExecuteTime": {
     "start_time": "2021-03-04T13:16:48.228Z"
    }
   },
   "outputs": [],
   "source": [
    "df['City'].value_counts() "
   ]
  },
  {
   "cell_type": "markdown",
   "metadata": {},
   "source": [
    "#### Top two cities with maximum ZIPCODES"
   ]
  },
  {
   "cell_type": "code",
   "execution_count": null,
   "metadata": {
    "ExecuteTime": {
     "start_time": "2021-03-04T13:16:48.234Z"
    }
   },
   "outputs": [],
   "source": [
    "df_NY = df[df['City'] == 'New York']\n",
    "df_LA = df[df['City'] == 'Los Angeles']"
   ]
  },
  {
   "cell_type": "code",
   "execution_count": null,
   "metadata": {
    "ExecuteTime": {
     "start_time": "2021-03-04T13:16:48.239Z"
    }
   },
   "outputs": [],
   "source": [
    "print(f'{df_NY.RegionName.nunique()} unique Zip Code/s are there in New York.')"
   ]
  },
  {
   "cell_type": "code",
   "execution_count": null,
   "metadata": {
    "ExecuteTime": {
     "start_time": "2021-03-04T13:16:48.245Z"
    }
   },
   "outputs": [],
   "source": [
    "print(f'{df_LA.RegionName.nunique()} unique Zip Code/s are there in Los Angelos.')"
   ]
  },
  {
   "cell_type": "code",
   "execution_count": null,
   "metadata": {
    "ExecuteTime": {
     "start_time": "2021-03-04T13:16:48.255Z"
    }
   },
   "outputs": [],
   "source": [
    "df_NY.head() "
   ]
  },
  {
   "cell_type": "code",
   "execution_count": null,
   "metadata": {
    "ExecuteTime": {
     "start_time": "2021-03-04T13:16:48.266Z"
    }
   },
   "outputs": [],
   "source": [
    "df_LA.head() "
   ]
  },
  {
   "cell_type": "markdown",
   "metadata": {},
   "source": [
    "### Ocala_EDA"
   ]
  },
  {
   "cell_type": "code",
   "execution_count": null,
   "metadata": {
    "ExecuteTime": {
     "start_time": "2021-03-04T13:16:48.271Z"
    }
   },
   "outputs": [],
   "source": [
    "df_Ocala= df[df['City'] == 'Ocala']"
   ]
  },
  {
   "cell_type": "code",
   "execution_count": null,
   "metadata": {
    "ExecuteTime": {
     "start_time": "2021-03-04T13:16:48.276Z"
    }
   },
   "outputs": [],
   "source": [
    "print(f'{df_Ocala.RegionName.nunique()} unique Zip Code/s are there in Ocala.')"
   ]
  },
  {
   "cell_type": "code",
   "execution_count": null,
   "metadata": {
    "ExecuteTime": {
     "start_time": "2021-03-04T13:16:48.292Z"
    }
   },
   "outputs": [],
   "source": [
    "df_Ocala.head(10) "
   ]
  },
  {
   "cell_type": "code",
   "execution_count": null,
   "metadata": {
    "ExecuteTime": {
     "start_time": "2021-03-04T13:16:48.299Z"
    }
   },
   "outputs": [],
   "source": [
    "df_Ocala.info() "
   ]
  },
  {
   "cell_type": "code",
   "execution_count": null,
   "metadata": {
    "ExecuteTime": {
     "start_time": "2021-03-04T13:16:48.306Z"
    }
   },
   "outputs": [],
   "source": [
    "def show_distplot(dataframe, RegionName, column_name):\n",
    "    sns.distplot(dataframe[column_name])\n",
    "    plt.title(f'{RegionName} {column_name}')"
   ]
  },
  {
   "cell_type": "code",
   "execution_count": null,
   "metadata": {
    "ExecuteTime": {
     "start_time": "2021-03-04T13:16:48.310Z"
    }
   },
   "outputs": [],
   "source": [
    "df['1996-04'].min()"
   ]
  },
  {
   "cell_type": "code",
   "execution_count": null,
   "metadata": {
    "ExecuteTime": {
     "start_time": "2021-03-04T13:16:48.316Z"
    }
   },
   "outputs": [],
   "source": [
    "df_Ocala['1996-04'].min()"
   ]
  },
  {
   "cell_type": "code",
   "execution_count": null,
   "metadata": {
    "ExecuteTime": {
     "start_time": "2021-03-04T13:16:48.321Z"
    }
   },
   "outputs": [],
   "source": [
    "df['1996-04'].max()"
   ]
  },
  {
   "cell_type": "code",
   "execution_count": null,
   "metadata": {
    "ExecuteTime": {
     "start_time": "2021-03-04T13:16:48.326Z"
    }
   },
   "outputs": [],
   "source": [
    "df_Ocala['1996-04'].max()"
   ]
  },
  {
   "cell_type": "code",
   "execution_count": null,
   "metadata": {
    "ExecuteTime": {
     "start_time": "2021-03-04T13:16:48.331Z"
    },
    "scrolled": true
   },
   "outputs": [],
   "source": [
    "show_distplot(df_Ocala, 'RegionName', '1996-04')"
   ]
  },
  {
   "cell_type": "code",
   "execution_count": null,
   "metadata": {
    "ExecuteTime": {
     "start_time": "2021-03-04T13:16:48.336Z"
    }
   },
   "outputs": [],
   "source": [
    "show_distplot(df_Ocala, 'RegionName', '2018-04')"
   ]
  },
  {
   "cell_type": "code",
   "execution_count": null,
   "metadata": {
    "ExecuteTime": {
     "start_time": "2021-03-04T13:16:48.340Z"
    }
   },
   "outputs": [],
   "source": [
    "fig = plt.figure(figsize = (12, 8))\n",
    "fig.suptitle('Apr_1996')\n",
    "\n",
    "ax1 = plt.subplot(1, 2, 1) # just changed name of axis from ax1 to ax2 and plt number from 1 to 2\n",
    "plt.scatter(df_NY['RegionName'], df_NY['1996-04'])\n",
    "ax1.set_title('NY by Region')\n",
    "\n",
    "ax2 = plt.subplot(1, 2, 2) # just changed name of axis from ax2 to ax3 and plt number from 2 to 3\n",
    "plt.scatter(df_LA['RegionName'], df_LA['1996-04'])\n",
    "ax2.set_title('LA by Region')"
   ]
  },
  {
   "cell_type": "code",
   "execution_count": null,
   "metadata": {
    "ExecuteTime": {
     "start_time": "2021-03-04T13:16:48.345Z"
    }
   },
   "outputs": [],
   "source": [
    "list(df_Ocala.columns)"
   ]
  },
  {
   "cell_type": "code",
   "execution_count": null,
   "metadata": {
    "ExecuteTime": {
     "start_time": "2021-03-04T13:16:48.350Z"
    }
   },
   "outputs": [],
   "source": [
    "for x in list(df_Ocala.columns)[2:]:\n",
    "    print(x)"
   ]
  },
  {
   "cell_type": "markdown",
   "metadata": {},
   "source": [
    "#### Finding Min & Max value for Ocala each Year"
   ]
  },
  {
   "cell_type": "code",
   "execution_count": null,
   "metadata": {
    "ExecuteTime": {
     "start_time": "2021-03-04T13:16:48.356Z"
    }
   },
   "outputs": [],
   "source": [
    "min_dict = {}\n",
    "for x in list(df_Ocala.columns)[1:]:\n",
    "    min_dict[x] = df_Ocala[x].min() "
   ]
  },
  {
   "cell_type": "code",
   "execution_count": null,
   "metadata": {
    "ExecuteTime": {
     "start_time": "2021-03-04T13:16:48.360Z"
    }
   },
   "outputs": [],
   "source": [
    "min_dict"
   ]
  },
  {
   "cell_type": "code",
   "execution_count": null,
   "metadata": {
    "ExecuteTime": {
     "start_time": "2021-03-04T13:16:48.367Z"
    }
   },
   "outputs": [],
   "source": [
    "max_dict = {}\n",
    "for x in list(df_Ocala.columns)[1:]:\n",
    "    max_dict[x] = df_Ocala[x].max() "
   ]
  },
  {
   "cell_type": "code",
   "execution_count": null,
   "metadata": {
    "ExecuteTime": {
     "start_time": "2021-03-04T13:16:48.373Z"
    }
   },
   "outputs": [],
   "source": [
    "max_dict"
   ]
  },
  {
   "cell_type": "markdown",
   "metadata": {},
   "source": [
    "#### Dropping Columns for testing df_Ocala"
   ]
  },
  {
   "cell_type": "code",
   "execution_count": null,
   "metadata": {
    "ExecuteTime": {
     "start_time": "2021-03-04T13:16:48.379Z"
    }
   },
   "outputs": [],
   "source": [
    "df_Ocala=df_Ocala.drop([\"RegionID\", \"City\", \"State\", \"Metro\", \"CountyName\", \"SizeRank\"], axis=1)"
   ]
  },
  {
   "cell_type": "code",
   "execution_count": null,
   "metadata": {
    "ExecuteTime": {
     "start_time": "2021-03-04T13:16:48.394Z"
    }
   },
   "outputs": [],
   "source": [
    "df_Ocala.head() "
   ]
  },
  {
   "cell_type": "markdown",
   "metadata": {},
   "source": [
    "#### Renaming RegionName to Zipcode"
   ]
  },
  {
   "cell_type": "code",
   "execution_count": null,
   "metadata": {
    "ExecuteTime": {
     "start_time": "2021-03-04T13:16:48.411Z"
    },
    "scrolled": true
   },
   "outputs": [],
   "source": [
    "df_Ocala.rename(columns={'RegionName': 'Zipcode'}, inplace=True)\n",
    "df_Ocala.head()"
   ]
  },
  {
   "cell_type": "markdown",
   "metadata": {},
   "source": [
    "#### Reseting Index"
   ]
  },
  {
   "cell_type": "code",
   "execution_count": null,
   "metadata": {
    "ExecuteTime": {
     "start_time": "2021-03-04T13:16:48.420Z"
    }
   },
   "outputs": [],
   "source": [
    "df_Ocala.set_index('Zipcode', inplace=True)"
   ]
  },
  {
   "cell_type": "code",
   "execution_count": null,
   "metadata": {
    "ExecuteTime": {
     "start_time": "2021-03-04T13:16:48.426Z"
    }
   },
   "outputs": [],
   "source": [
    "df_Ocala.info() "
   ]
  },
  {
   "cell_type": "markdown",
   "metadata": {},
   "source": [
    "#### Testing the Transpose Feature Dates to Row"
   ]
  },
  {
   "cell_type": "code",
   "execution_count": null,
   "metadata": {
    "ExecuteTime": {
     "start_time": "2021-03-04T13:16:48.435Z"
    }
   },
   "outputs": [],
   "source": [
    "df_Ocala=df_Ocala.transpose()\n",
    "df_Ocala.head() "
   ]
  },
  {
   "cell_type": "code",
   "execution_count": null,
   "metadata": {
    "ExecuteTime": {
     "start_time": "2021-03-04T13:16:48.441Z"
    }
   },
   "outputs": [],
   "source": [
    "df_Ocala.describe() "
   ]
  },
  {
   "cell_type": "code",
   "execution_count": null,
   "metadata": {
    "ExecuteTime": {
     "start_time": "2021-03-04T13:16:48.446Z"
    }
   },
   "outputs": [],
   "source": [
    "df_Ocala.plot(figsize=(17,8))"
   ]
  },
  {
   "cell_type": "markdown",
   "metadata": {},
   "source": [
    "#### Observation : Evidently this time series df_Ocala is not stationary in nature"
   ]
  },
  {
   "cell_type": "markdown",
   "metadata": {},
   "source": [
    "#### Zipcodes with Top 5 Mean "
   ]
  },
  {
   "cell_type": "code",
   "execution_count": null,
   "metadata": {
    "ExecuteTime": {
     "start_time": "2021-03-04T13:16:48.453Z"
    }
   },
   "outputs": [],
   "source": [
    "Ocala_mean = df_Ocala.mean()"
   ]
  },
  {
   "cell_type": "code",
   "execution_count": null,
   "metadata": {
    "ExecuteTime": {
     "start_time": "2021-03-04T13:16:48.458Z"
    }
   },
   "outputs": [],
   "source": [
    "Ocala_mean.head(10) "
   ]
  },
  {
   "cell_type": "code",
   "execution_count": null,
   "metadata": {
    "ExecuteTime": {
     "start_time": "2021-03-04T13:16:48.462Z"
    }
   },
   "outputs": [],
   "source": [
    "Ocala_mean.nlargest() "
   ]
  },
  {
   "cell_type": "markdown",
   "metadata": {},
   "source": [
    "#### Converting index to datetime "
   ]
  },
  {
   "cell_type": "code",
   "execution_count": null,
   "metadata": {
    "ExecuteTime": {
     "start_time": "2021-03-04T13:16:48.468Z"
    }
   },
   "outputs": [],
   "source": [
    "df_Ocala.index=pd.to_datetime(df_Ocala.index)\n",
    "df_Ocala.info()"
   ]
  },
  {
   "cell_type": "markdown",
   "metadata": {},
   "source": [
    "#### Converting column names to string"
   ]
  },
  {
   "cell_type": "code",
   "execution_count": null,
   "metadata": {
    "ExecuteTime": {
     "start_time": "2021-03-04T13:16:48.473Z"
    }
   },
   "outputs": [],
   "source": [
    "df_Ocala.columns = df_Ocala.columns.astype(str)"
   ]
  },
  {
   "cell_type": "markdown",
   "metadata": {},
   "source": [
    "### Dickey_Fuller Test"
   ]
  },
  {
   "cell_type": "code",
   "execution_count": null,
   "metadata": {
    "ExecuteTime": {
     "start_time": "2021-03-04T13:16:48.478Z"
    }
   },
   "outputs": [],
   "source": [
    "from statsmodels.tsa.stattools import adfuller\n",
    "\n",
    "#create a function that will help us to quickly \n",
    "def test_stationarity(timeseries, window):\n",
    "    \n",
    "    #Determing rolling statistics\n",
    "    rolmean = timeseries.rolling(window=window).mean()\n",
    "    rolstd = timeseries.rolling(window=window).std()\n",
    "\n",
    "    #Plot rolling statistics:\n",
    "    fig = plt.figure(figsize=(12, 8))\n",
    "    orig = plt.plot(timeseries.iloc[window:], color='blue',label='Original')\n",
    "    mean = plt.plot(rolmean, color='red', label='Rolling Mean')\n",
    "    std = plt.plot(rolstd, color='black', label = 'Rolling Std')\n",
    "    plt.legend(loc='best')\n",
    "    plt.title('Rolling Mean & Standard Deviation')\n",
    "    plt.show()\n",
    "    \n",
    "    #Perform Dickey-Fuller test:\n",
    "    print ('Results of Dickey-Fuller Test:')\n",
    "    dftest = adfuller(timeseries, autolag='AIC')\n",
    "    dfoutput = pd.Series(dftest[0:4], index=['Test Statistic','p-value','#Lags Used','Number of Observations Used'])\n",
    "    for key,value in dftest[4].items():\n",
    "        dfoutput['Critical Value (%s)'%key] = value\n",
    "    print (dfoutput)\n",
    "    return dfoutput"
   ]
  },
  {
   "cell_type": "markdown",
   "metadata": {},
   "source": [
    "##### Testing Stationary"
   ]
  },
  {
   "cell_type": "code",
   "execution_count": null,
   "metadata": {
    "ExecuteTime": {
     "start_time": "2021-03-04T13:16:48.484Z"
    },
    "scrolled": true
   },
   "outputs": [],
   "source": [
    "# #test the stationarity of the untransformed dataset\n",
    "# test_stationarity(df_Ocala, 18)"
   ]
  },
  {
   "cell_type": "markdown",
   "metadata": {
    "ExecuteTime": {
     "end_time": "2021-02-24T22:43:18.314827Z",
     "start_time": "2021-02-24T22:43:18.304834Z"
    }
   },
   "source": [
    "- As the rolling mean for all zip codes shows, \n",
    "- The assumption of stationarity is not met, as rolling mean is not constant over time\n",
    "- To be tested with individual Zip codes"
   ]
  },
  {
   "cell_type": "markdown",
   "metadata": {},
   "source": [
    "#### 34471"
   ]
  },
  {
   "cell_type": "code",
   "execution_count": null,
   "metadata": {
    "ExecuteTime": {
     "start_time": "2021-03-04T13:16:48.490Z"
    }
   },
   "outputs": [],
   "source": [
    "data71 = df_Ocala[\"34471\"]\n",
    "dftest = adfuller(data71)\n",
    "\n",
    "# Extract and display test results in a user friendly manner\n",
    "dfoutput = pd.Series(dftest[0:4], index=['Test Statistic','p-value','#Lags Used','Number of Observations Used'])\n",
    "for key,value in dftest[4].items():\n",
    "    dfoutput['Critical Value (%s)'%key] = value\n",
    "print(dftest)\n",
    "\n",
    "print ('Results of Dickey-Fuller Test:')\n",
    "\n",
    "print(dfoutput)\n",
    "\n",
    "if dftest[0] < dftest[4]['5%']:\n",
    "    print ('Reject Hypothesis - Time series is Stationary')\n",
    "else:\n",
    "    print ('Failed to Reject Hypothesis -time series is Non Stationary')"
   ]
  },
  {
   "cell_type": "markdown",
   "metadata": {},
   "source": [
    "##### Testing Stationary"
   ]
  },
  {
   "cell_type": "code",
   "execution_count": null,
   "metadata": {
    "ExecuteTime": {
     "start_time": "2021-03-04T13:16:48.495Z"
    }
   },
   "outputs": [],
   "source": [
    "output34471 = test_stationarity(df_Ocala['34471'], 18)"
   ]
  },
  {
   "cell_type": "code",
   "execution_count": null,
   "metadata": {
    "ExecuteTime": {
     "start_time": "2021-03-04T13:16:48.500Z"
    }
   },
   "outputs": [],
   "source": [
    "df_Ocala['34471'].plot(figsize=(17,8)) "
   ]
  },
  {
   "cell_type": "markdown",
   "metadata": {},
   "source": [
    "#### 34474"
   ]
  },
  {
   "cell_type": "code",
   "execution_count": null,
   "metadata": {
    "ExecuteTime": {
     "start_time": "2021-03-04T13:16:48.505Z"
    }
   },
   "outputs": [],
   "source": [
    "data74 = df_Ocala[\"34474\"]\n",
    "dftest = adfuller(data74)\n",
    "\n",
    "# Extract and display test results in a user friendly manner\n",
    "dfoutput = pd.Series(dftest[0:4], index=['Test Statistic','p-value','#Lags Used','Number of Observations Used'])\n",
    "for key,value in dftest[4].items():\n",
    "    dfoutput['Critical Value (%s)'%key] = value\n",
    "print(dftest)\n",
    "\n",
    "print ('Results of Dickey-Fuller Test:')\n",
    "\n",
    "print(dfoutput)\n",
    "\n",
    "if dftest[0] < dftest[4]['5%']:\n",
    "    print ('Reject Hypothesis - Time series is Stationary')\n",
    "else:\n",
    "    print ('Failed to Reject Hypothesis -time series is Non Stationary')"
   ]
  },
  {
   "cell_type": "markdown",
   "metadata": {},
   "source": [
    "##### Testing Stationary"
   ]
  },
  {
   "cell_type": "code",
   "execution_count": null,
   "metadata": {
    "ExecuteTime": {
     "start_time": "2021-03-04T13:16:48.511Z"
    },
    "scrolled": true
   },
   "outputs": [],
   "source": [
    "output34474 = test_stationarity(df_Ocala['34474'], 18)"
   ]
  },
  {
   "cell_type": "code",
   "execution_count": null,
   "metadata": {
    "ExecuteTime": {
     "start_time": "2021-03-04T13:16:48.516Z"
    }
   },
   "outputs": [],
   "source": [
    "df_Ocala['34474'].plot(figsize=(12, 8)) "
   ]
  },
  {
   "cell_type": "markdown",
   "metadata": {},
   "source": [
    "#### 34476"
   ]
  },
  {
   "cell_type": "code",
   "execution_count": null,
   "metadata": {
    "ExecuteTime": {
     "start_time": "2021-03-04T13:16:48.521Z"
    }
   },
   "outputs": [],
   "source": [
    "data76 = df_Ocala[\"34476\"]\n",
    "dftest = adfuller(data76)\n",
    "\n",
    "# Extract and display test results in a user friendly manner\n",
    "dfoutput = pd.Series(dftest[0:4], index=['Test Statistic','p-value','#Lags Used','Number of Observations Used'])\n",
    "for key,value in dftest[4].items():\n",
    "    dfoutput['Critical Value (%s)'%key] = value\n",
    "print(dftest)\n",
    "\n",
    "print ('Results of Dickey-Fuller Test:')\n",
    "\n",
    "print(dfoutput)\n",
    "\n",
    "if dftest[0] < dftest[4]['5%']:\n",
    "    print ('Reject Hypothesis - Time series is Stationary')\n",
    "else:\n",
    "    print ('Failed to Reject Hypothesis -time series is Non Stationary')"
   ]
  },
  {
   "cell_type": "markdown",
   "metadata": {},
   "source": [
    "##### Testing Stationary"
   ]
  },
  {
   "cell_type": "code",
   "execution_count": null,
   "metadata": {
    "ExecuteTime": {
     "start_time": "2021-03-04T13:16:48.526Z"
    }
   },
   "outputs": [],
   "source": [
    "output34476 = test_stationarity(df_Ocala['34476'], 18)"
   ]
  },
  {
   "cell_type": "markdown",
   "metadata": {},
   "source": [
    "#### 34480"
   ]
  },
  {
   "cell_type": "code",
   "execution_count": null,
   "metadata": {
    "ExecuteTime": {
     "start_time": "2021-03-04T13:16:48.532Z"
    }
   },
   "outputs": [],
   "source": [
    "data80 = df_Ocala[\"34480\"]\n",
    "dftest = adfuller(data80)\n",
    "\n",
    "# Extract and display test results in a user friendly manner\n",
    "dfoutput = pd.Series(dftest[0:4], index=['Test Statistic','p-value','#Lags Used','Number of Observations Used'])\n",
    "for key,value in dftest[4].items():\n",
    "    dfoutput['Critical Value (%s)'%key] = value\n",
    "print(dftest)\n",
    "\n",
    "print ('Results of Dickey-Fuller Test:')\n",
    "\n",
    "print(dfoutput)\n",
    "\n",
    "if dftest[0] < dftest[4]['5%']:\n",
    "    print ('Reject Hypothesis - Time series is Stationary')\n",
    "else:\n",
    "    print ('Failed to Reject Hypothesis -time series is Non Stationary')"
   ]
  },
  {
   "cell_type": "markdown",
   "metadata": {},
   "source": [
    "##### Testing Stationary"
   ]
  },
  {
   "cell_type": "code",
   "execution_count": null,
   "metadata": {
    "ExecuteTime": {
     "start_time": "2021-03-04T13:16:48.538Z"
    }
   },
   "outputs": [],
   "source": [
    "output34480 = test_stationarity(df_Ocala['34480'], 18)"
   ]
  },
  {
   "cell_type": "markdown",
   "metadata": {},
   "source": [
    "#### 34482"
   ]
  },
  {
   "cell_type": "code",
   "execution_count": null,
   "metadata": {
    "ExecuteTime": {
     "start_time": "2021-03-04T13:16:48.544Z"
    }
   },
   "outputs": [],
   "source": [
    "data82 = df_Ocala[\"34482\"]\n",
    "dftest = adfuller(data82)\n",
    "\n",
    "# Extract and display test results in a user friendly manner\n",
    "dfoutput = pd.Series(dftest[0:4], index=['Test Statistic','p-value','#Lags Used','Number of Observations Used'])\n",
    "for key,value in dftest[4].items():\n",
    "    dfoutput['Critical Value (%s)'%key] = value\n",
    "print(dftest)\n",
    "\n",
    "print ('Results of Dickey-Fuller Test:')\n",
    "\n",
    "print(dfoutput) \n",
    "\n",
    "if dftest[0] < dftest[4]['5%']:\n",
    "    print ('Reject Hypothesis - Time series is Stationary')\n",
    "else:\n",
    "    print ('Failed to Reject Hypothesis -time series is Non Stationary')"
   ]
  },
  {
   "cell_type": "markdown",
   "metadata": {},
   "source": [
    "##### Testing Stationary"
   ]
  },
  {
   "cell_type": "code",
   "execution_count": null,
   "metadata": {
    "ExecuteTime": {
     "start_time": "2021-03-04T13:16:48.551Z"
    }
   },
   "outputs": [],
   "source": [
    "output34482 = test_stationarity(df_Ocala['34482'], 18)"
   ]
  },
  {
   "cell_type": "markdown",
   "metadata": {},
   "source": [
    "#### Preparing a DataFrame for Results of Dickey-Fuller Test"
   ]
  },
  {
   "cell_type": "code",
   "execution_count": null,
   "metadata": {
    "ExecuteTime": {
     "start_time": "2021-03-04T13:16:48.556Z"
    }
   },
   "outputs": [],
   "source": [
    "df_dft =pd.concat([output34471, output34474, output34476,output34480,output34482 ], axis=1)"
   ]
  },
  {
   "cell_type": "code",
   "execution_count": null,
   "metadata": {
    "ExecuteTime": {
     "start_time": "2021-03-04T13:16:48.561Z"
    }
   },
   "outputs": [],
   "source": [
    "df_dft"
   ]
  },
  {
   "cell_type": "markdown",
   "metadata": {},
   "source": [
    "- 34474 & 34482 have the lowest p-value , higher lags\n",
    "- Test statistics less than critical value Reject the null hypothesis \n",
    "- Test statistics greater than critical value fail to Reject the null hypothesis "
   ]
  },
  {
   "cell_type": "code",
   "execution_count": null,
   "metadata": {
    "ExecuteTime": {
     "start_time": "2021-03-04T13:16:48.566Z"
    }
   },
   "outputs": [],
   "source": [
    "df_Ocala.plot(figsize = (20,15), subplots=True, legend=True)\n",
    "plt.show()"
   ]
  },
  {
   "cell_type": "code",
   "execution_count": null,
   "metadata": {
    "ExecuteTime": {
     "start_time": "2021-03-04T13:16:48.570Z"
    },
    "scrolled": true
   },
   "outputs": [],
   "source": [
    "df_Ocala.plot(figsize = (20,6), style = \".r\")\n",
    "plt.show()"
   ]
  },
  {
   "cell_type": "code",
   "execution_count": null,
   "metadata": {
    "ExecuteTime": {
     "start_time": "2021-03-04T13:16:48.575Z"
    }
   },
   "outputs": [],
   "source": [
    "df_Ocala.shape"
   ]
  },
  {
   "cell_type": "markdown",
   "metadata": {},
   "source": [
    "### Log Transformation"
   ]
  },
  {
   "cell_type": "code",
   "execution_count": null,
   "metadata": {
    "ExecuteTime": {
     "start_time": "2021-03-04T13:16:48.581Z"
    }
   },
   "outputs": [],
   "source": [
    "def log_transformation(ts_data_frame):\n",
    "    for col in ts_data_frame.columns:\n",
    "        col= pd.Series(np.log(df_Ocala[col]))\n",
    "        dftest = adfuller(col)\n",
    "        dfoutput = pd.Series(dftest[0:4], index=['Test Statistic','p-value','#Lags Used','Number of Observations Used'])\n",
    "        for key,value in dftest[4].items():\n",
    "            dfoutput['Critical Value (%s)'%key] = value\n",
    "            print(dftest)\n",
    "\n",
    "            print ('Results of Dickey-Fuller Test:')\n",
    "\n",
    "            print(dfoutput)"
   ]
  },
  {
   "cell_type": "code",
   "execution_count": null,
   "metadata": {
    "ExecuteTime": {
     "start_time": "2021-03-04T13:16:48.586Z"
    }
   },
   "outputs": [],
   "source": [
    "log_transformation(df_Ocala)"
   ]
  },
  {
   "cell_type": "markdown",
   "metadata": {},
   "source": [
    "#### 34471"
   ]
  },
  {
   "cell_type": "code",
   "execution_count": null,
   "metadata": {
    "ExecuteTime": {
     "start_time": "2021-03-04T13:16:48.591Z"
    }
   },
   "outputs": [],
   "source": [
    "log_71 = pd.Series(np.log(df_Ocala[\"34471\"]))\n",
    "fig = plt.figure(figsize=(12,6))\n",
    "plt.plot(log_71, color=\"blue\")\n",
    "plt.xlabel(\"month\", fontsize=14)\n",
    "plt.ylabel(\"log(monthly sales)\", fontsize=14)\n",
    "plt.show()"
   ]
  },
  {
   "cell_type": "code",
   "execution_count": null,
   "metadata": {
    "ExecuteTime": {
     "start_time": "2021-03-04T13:16:48.596Z"
    }
   },
   "outputs": [],
   "source": [
    "data71_log = log_71\n",
    "dftest = adfuller(data71_log)\n",
    "\n",
    "# Extract and display test results in a user friendly manner\n",
    "dfoutput = pd.Series(dftest[0:4], index=['Test Statistic','p-value','#Lags Used','Number of Observations Used'])\n",
    "for key,value in dftest[4].items():\n",
    "    dfoutput['Critical Value (%s)'%key] = value\n",
    "print(dftest)\n",
    "\n",
    "print ('Results of Dickey-Fuller Test:')\n",
    "\n",
    "print(dfoutput)\n",
    "\n",
    "if dftest[0] < dftest[4]['5%']:\n",
    "    print ('Reject Hypothesis - Time series is Stationary')\n",
    "else:\n",
    "    print ('Failed to Reject Hypothesis -time series is Non Stationary')"
   ]
  },
  {
   "cell_type": "markdown",
   "metadata": {},
   "source": [
    "##### Testing Stationary post log_tran"
   ]
  },
  {
   "cell_type": "code",
   "execution_count": null,
   "metadata": {
    "ExecuteTime": {
     "start_time": "2021-03-04T13:16:48.602Z"
    }
   },
   "outputs": [],
   "source": [
    "log_output34471 = test_stationarity(data71_log, 18)"
   ]
  },
  {
   "cell_type": "markdown",
   "metadata": {},
   "source": [
    "#### 34474"
   ]
  },
  {
   "cell_type": "code",
   "execution_count": null,
   "metadata": {
    "ExecuteTime": {
     "start_time": "2021-03-04T13:16:48.607Z"
    }
   },
   "outputs": [],
   "source": [
    "log_74 = pd.Series(np.log(df_Ocala[\"34474\"]))\n",
    "fig = plt.figure(figsize=(12,6))\n",
    "plt.plot(log_74, color=\"blue\")\n",
    "plt.xlabel(\"month\", fontsize=14)\n",
    "plt.ylabel(\"log(monthly sales)\", fontsize=14)\n",
    "plt.show()"
   ]
  },
  {
   "cell_type": "code",
   "execution_count": null,
   "metadata": {
    "ExecuteTime": {
     "start_time": "2021-03-04T13:16:48.613Z"
    }
   },
   "outputs": [],
   "source": [
    "data74_log = log_74\n",
    "dftest = adfuller(data74_log)\n",
    "\n",
    "# Extract and display test results in a user friendly manner\n",
    "dfoutput = pd.Series(dftest[0:4], index=['Test Statistic','p-value','#Lags Used','Number of Observations Used'])\n",
    "for key,value in dftest[4].items():\n",
    "    dfoutput['Critical Value (%s)'%key] = value\n",
    "print(dftest)\n",
    "\n",
    "print ('Results of Dickey-Fuller Test:')\n",
    "\n",
    "print(dfoutput)\n",
    "\n",
    "if dftest[0] < dftest[4]['5%']:\n",
    "    print ('Reject Hypothesis - Time series is Stationary')\n",
    "else:\n",
    "    print ('Failed to Reject Hypothesis -time series is Non Stationary')"
   ]
  },
  {
   "cell_type": "markdown",
   "metadata": {},
   "source": [
    "##### Testing Stationary post log_tran"
   ]
  },
  {
   "cell_type": "code",
   "execution_count": null,
   "metadata": {
    "ExecuteTime": {
     "start_time": "2021-03-04T13:16:48.618Z"
    }
   },
   "outputs": [],
   "source": [
    "log_output34474 = test_stationarity(data74_log, 18)"
   ]
  },
  {
   "cell_type": "markdown",
   "metadata": {},
   "source": [
    "#### 34476"
   ]
  },
  {
   "cell_type": "code",
   "execution_count": null,
   "metadata": {
    "ExecuteTime": {
     "start_time": "2021-03-04T13:16:48.625Z"
    }
   },
   "outputs": [],
   "source": [
    "log_76 = pd.Series(np.log(df_Ocala[\"34476\"]))\n",
    "fig = plt.figure(figsize=(12,6))\n",
    "plt.plot(log_76, color=\"blue\")\n",
    "plt.xlabel(\"month\", fontsize=14)\n",
    "plt.ylabel(\"log(monthly sales)\", fontsize=14)\n",
    "plt.show()"
   ]
  },
  {
   "cell_type": "code",
   "execution_count": null,
   "metadata": {
    "ExecuteTime": {
     "start_time": "2021-03-04T13:16:48.629Z"
    }
   },
   "outputs": [],
   "source": [
    "data76_log = log_76\n",
    "dftest = adfuller(data76_log)\n",
    "\n",
    "# Extract and display test results in a user friendly manner\n",
    "dfoutput = pd.Series(dftest[0:4], index=['Test Statistic','p-value','#Lags Used','Number of Observations Used'])\n",
    "for key,value in dftest[4].items():\n",
    "    dfoutput['Critical Value (%s)'%key] = value\n",
    "print(dftest)\n",
    "\n",
    "print ('Results of Dickey-Fuller Test:')\n",
    "\n",
    "print(dfoutput)\n",
    "\n",
    "if dftest[0] < dftest[4]['5%']:\n",
    "    print ('Reject Hypothesis - Time series is Stationary')\n",
    "else:\n",
    "    print ('Failed to Reject Hypothesis -time series is Non Stationary')"
   ]
  },
  {
   "cell_type": "markdown",
   "metadata": {},
   "source": [
    "##### Testing Stationary post log_tran"
   ]
  },
  {
   "cell_type": "code",
   "execution_count": null,
   "metadata": {
    "ExecuteTime": {
     "start_time": "2021-03-04T13:16:48.634Z"
    }
   },
   "outputs": [],
   "source": [
    "log_output34476 = test_stationarity(data76_log, 18)"
   ]
  },
  {
   "cell_type": "markdown",
   "metadata": {},
   "source": [
    "#### 34480"
   ]
  },
  {
   "cell_type": "code",
   "execution_count": null,
   "metadata": {
    "ExecuteTime": {
     "start_time": "2021-03-04T13:16:48.639Z"
    }
   },
   "outputs": [],
   "source": [
    "log_80 = pd.Series(np.log(df_Ocala[\"34480\"]))\n",
    "fig = plt.figure(figsize=(12,6))\n",
    "plt.plot(log_80, color=\"blue\")\n",
    "plt.xlabel(\"month\", fontsize=14)\n",
    "plt.ylabel(\"log(monthly sales)\", fontsize=14)\n",
    "plt.show()"
   ]
  },
  {
   "cell_type": "code",
   "execution_count": null,
   "metadata": {
    "ExecuteTime": {
     "start_time": "2021-03-04T13:16:48.643Z"
    }
   },
   "outputs": [],
   "source": [
    "data80_log = log_80\n",
    "dftest = adfuller(data80_log)\n",
    "\n",
    "# Extract and display test results in a user friendly manner\n",
    "dfoutput = pd.Series(dftest[0:4], index=['Test Statistic','p-value','#Lags Used','Number of Observations Used'])\n",
    "for key,value in dftest[4].items():\n",
    "    dfoutput['Critical Value (%s)'%key] = value\n",
    "print(dftest)\n",
    "\n",
    "print ('Results of Dickey-Fuller Test:')\n",
    "\n",
    "print(dfoutput)\n",
    "\n",
    "if dftest[0] < dftest[4]['5%']:\n",
    "    print ('Reject Hypothesis - Time series is Stationary')\n",
    "else:\n",
    "    print ('Failed to Reject Hypothesis -time series is Non Stationary')"
   ]
  },
  {
   "cell_type": "markdown",
   "metadata": {},
   "source": [
    "##### Testing Stationary post log_tran"
   ]
  },
  {
   "cell_type": "code",
   "execution_count": null,
   "metadata": {
    "ExecuteTime": {
     "start_time": "2021-03-04T13:16:48.650Z"
    }
   },
   "outputs": [],
   "source": [
    "log_output34480 = test_stationarity(data80_log, 18)"
   ]
  },
  {
   "cell_type": "markdown",
   "metadata": {},
   "source": [
    "#### 34482"
   ]
  },
  {
   "cell_type": "code",
   "execution_count": null,
   "metadata": {
    "ExecuteTime": {
     "start_time": "2021-03-04T13:16:48.656Z"
    }
   },
   "outputs": [],
   "source": [
    "log_82 = pd.Series(np.log(df_Ocala[\"34482\"]))\n",
    "fig = plt.figure(figsize=(12,6))\n",
    "plt.plot(log_82, color=\"blue\")\n",
    "plt.xlabel(\"month\", fontsize=14)\n",
    "plt.ylabel(\"log(monthly sales)\", fontsize=14)\n",
    "plt.show()"
   ]
  },
  {
   "cell_type": "code",
   "execution_count": null,
   "metadata": {
    "ExecuteTime": {
     "start_time": "2021-03-04T13:16:48.661Z"
    }
   },
   "outputs": [],
   "source": [
    "data82_log = log_82\n",
    "dftest = adfuller(data82_log)\n",
    "\n",
    "# Extract and display test results in a user friendly manner\n",
    "dfoutput = pd.Series(dftest[0:4], index=['Test Statistic','p-value','#Lags Used','Number of Observations Used'])\n",
    "for key,value in dftest[4].items():\n",
    "    dfoutput['Critical Value (%s)'%key] = value\n",
    "print(dftest)\n",
    "\n",
    "print ('Results of Dickey-Fuller Test:')\n",
    "\n",
    "print(dfoutput)\n",
    "\n",
    "if dftest[0] < dftest[4]['5%']:\n",
    "    print ('Reject Hypothesis - Time series is Stationary')\n",
    "else:\n",
    "    print ('Failed to Reject Hypothesis -time series is Non Stationary')"
   ]
  },
  {
   "cell_type": "markdown",
   "metadata": {},
   "source": [
    "##### Testing Stationary post log_tran"
   ]
  },
  {
   "cell_type": "code",
   "execution_count": null,
   "metadata": {
    "ExecuteTime": {
     "start_time": "2021-03-04T13:16:48.666Z"
    }
   },
   "outputs": [],
   "source": [
    "log_output34482 = test_stationarity(data82_log, 18)"
   ]
  },
  {
   "cell_type": "markdown",
   "metadata": {},
   "source": [
    "#### Preparing a DataFrame for Results of Dickey-Fuller Test post log transformation"
   ]
  },
  {
   "cell_type": "code",
   "execution_count": null,
   "metadata": {
    "ExecuteTime": {
     "start_time": "2021-03-04T13:16:48.672Z"
    }
   },
   "outputs": [],
   "source": [
    "df_dft_log =pd.concat([log_output34471,log_output34474, log_output34476, log_output34480,log_output34482], axis=1)"
   ]
  },
  {
   "cell_type": "code",
   "execution_count": null,
   "metadata": {
    "ExecuteTime": {
     "start_time": "2021-03-04T13:16:48.676Z"
    }
   },
   "outputs": [],
   "source": [
    "df_dft_log"
   ]
  },
  {
   "cell_type": "code",
   "execution_count": null,
   "metadata": {
    "ExecuteTime": {
     "start_time": "2021-03-04T13:16:48.683Z"
    },
    "scrolled": true
   },
   "outputs": [],
   "source": [
    "df_dft"
   ]
  },
  {
   "cell_type": "markdown",
   "metadata": {},
   "source": [
    "#### Differencing"
   ]
  },
  {
   "cell_type": "code",
   "execution_count": null,
   "metadata": {
    "ExecuteTime": {
     "start_time": "2021-03-04T13:16:48.689Z"
    }
   },
   "outputs": [],
   "source": [
    "## rolling average set to 12 months\n",
    "df_Ocala_log=np.log(df_Ocala) #log transformation first\n",
    "Ocala_diff = df_Ocala_log.diff(periods=12) #need to check/verify what this is doing\n",
    "\n",
    "fig = plt.figure(figsize=(11,7))\n",
    "plt.plot(Ocala_diff, color='blue')\n",
    "plt.legend(loc='best')\n",
    "plt.title('Differenced sales series')\n",
    "plt.show(block=False)"
   ]
  },
  {
   "cell_type": "code",
   "execution_count": null,
   "metadata": {
    "ExecuteTime": {
     "start_time": "2021-03-04T13:16:48.695Z"
    }
   },
   "outputs": [],
   "source": [
    "#missing the first rows at the beginning\n",
    "Ocala_diff= Ocala_diff[12:]\n",
    "Ocala_diff.head(10) "
   ]
  },
  {
   "cell_type": "code",
   "execution_count": null,
   "metadata": {
    "ExecuteTime": {
     "start_time": "2021-03-04T13:16:48.703Z"
    }
   },
   "outputs": [],
   "source": [
    "## rolling average set to 12 months\n",
    "df_Ocala_log=np.log(df_Ocala) #log transformation first\n",
    "Ocala_diff = df_Ocala_log.diff(periods=12) #need to check/verify what this is doing\n",
    "\n",
    "fig = plt.figure(figsize=(11,7))\n",
    "plt.plot(Ocala_diff, color='blue')\n",
    "plt.legend(loc='best')\n",
    "plt.title('Differenced sales series')\n",
    "plt.show(block=False)\n",
    "\n",
    "#missing the first rows at the beginning\n",
    "Ocala_diff= Ocala_diff[12:]\n",
    "Ocala_diff.head(10) "
   ]
  },
  {
   "cell_type": "markdown",
   "metadata": {},
   "source": [
    "#### Test_Dickey_Fuller"
   ]
  },
  {
   "cell_type": "code",
   "execution_count": null,
   "metadata": {
    "ExecuteTime": {
     "start_time": "2021-03-04T13:16:48.709Z"
    }
   },
   "outputs": [],
   "source": [
    "def test_dickey_fuller(ts_data_frame):\n",
    "    for col in df_Ocala.columns:\n",
    "        dftest = adfuller(ts_data_frame[col])\n",
    "        dfoutput = pd.Series(dftest[0:4], index=['Test Statistic','p-value','#Lags Used','Number of Observations Used'])\n",
    "#         for key,value in dftest[4].items():\n",
    "#             dfoutput['Critical Value (%s)'%key] = value\n",
    "        print(dftest)\n",
    "\n",
    "        print ('Results of Dickey-Fuller Test:')\n",
    "\n",
    "        print(dfoutput) "
   ]
  },
  {
   "cell_type": "code",
   "execution_count": null,
   "metadata": {
    "ExecuteTime": {
     "start_time": "2021-03-04T13:16:48.714Z"
    }
   },
   "outputs": [],
   "source": [
    "#performs a rolling mean\n",
    "rolmean = Ocala_diff.rolling(window = 4).mean()\n",
    "rolmean=rolmean[3:]\n",
    "rolmean.head()\n",
    "test_dickey_fuller(rolmean) "
   ]
  },
  {
   "cell_type": "code",
   "execution_count": null,
   "metadata": {
    "ExecuteTime": {
     "start_time": "2021-03-04T13:16:48.719Z"
    }
   },
   "outputs": [],
   "source": [
    "df_Ocala.columns"
   ]
  },
  {
   "cell_type": "code",
   "execution_count": null,
   "metadata": {
    "ExecuteTime": {
     "start_time": "2021-03-04T13:16:48.724Z"
    },
    "scrolled": true
   },
   "outputs": [],
   "source": [
    "test_dickey_fuller(df_Ocala)"
   ]
  },
  {
   "cell_type": "code",
   "execution_count": null,
   "metadata": {
    "ExecuteTime": {
     "start_time": "2021-03-04T13:16:48.729Z"
    }
   },
   "outputs": [],
   "source": [
    "rolmean.dropna(inplace=True)\n",
    "rolmean.tail(5)"
   ]
  },
  {
   "cell_type": "markdown",
   "metadata": {},
   "source": [
    "### Seasonal Decompose"
   ]
  },
  {
   "cell_type": "code",
   "execution_count": null,
   "metadata": {
    "ExecuteTime": {
     "start_time": "2021-03-04T13:16:48.734Z"
    }
   },
   "outputs": [],
   "source": [
    "rolmean.index"
   ]
  },
  {
   "cell_type": "markdown",
   "metadata": {},
   "source": [
    "#### 34471"
   ]
  },
  {
   "cell_type": "code",
   "execution_count": null,
   "metadata": {
    "ExecuteTime": {
     "start_time": "2021-03-04T13:16:48.739Z"
    }
   },
   "outputs": [],
   "source": [
    "# import seasonal_decompose\n",
    "from statsmodels.tsa.seasonal import seasonal_decompose\n",
    "\n",
    "decomposition = seasonal_decompose(rolmean['34471'])\n",
    "\n",
    "# Gather the trend, seasonality and noise of decomposed object\n",
    "trend = decomposition.trend\n",
    "seasonal = decomposition.seasonal\n",
    "residual = decomposition.resid\n",
    "\n",
    "# Plot gathered statistics\n",
    "plt.figure(figsize=(12,24))\n",
    "plt.subplot(411)\n",
    "plt.plot(rolmean, label='Original', color=\"blue\")\n",
    "plt.legend(loc='best')\n",
    "plt.subplot(412)\n",
    "plt.plot(trend, label='Trend', color=\"blue\")\n",
    "plt.legend(loc='best')\n",
    "plt.subplot(413)\n",
    "plt.plot(seasonal,label='Seasonality', color=\"blue\")\n",
    "plt.legend(loc='best')\n",
    "plt.subplot(414)\n",
    "plt.plot(residual, label='Residuals', color=\"blue\")\n",
    "plt.legend(loc='best')\n",
    "plt.tight_layout()"
   ]
  },
  {
   "cell_type": "code",
   "execution_count": null,
   "metadata": {
    "ExecuteTime": {
     "start_time": "2021-03-04T13:16:48.744Z"
    },
    "scrolled": true
   },
   "outputs": [],
   "source": [
    "# import seasonal_decompose\n",
    "from statsmodels.tsa.seasonal import seasonal_decompose\n",
    "decomposition = seasonal_decompose(rolmean['34471'])\n",
    "\n",
    "# Gather the trend, seasonality and noise of decomposed object\n",
    "trend = decomposition.trend\n",
    "seasonal = decomposition.seasonal\n",
    "residual = decomposition.resid\n",
    "\n",
    "# Plot gathered statistics\n",
    "plt.figure(figsize=(12,8))\n",
    "plt.subplot(221)\n",
    "plt.plot(rolmean, label='Original', color=\"blue\")\n",
    "plt.legend(loc='best')\n",
    "plt.subplot(222)\n",
    "plt.plot(trend, label='Trend', color=\"blue\")\n",
    "plt.legend(loc='best')\n",
    "plt.subplot(223)\n",
    "plt.plot(seasonal,label='Seasonality', color=\"blue\")\n",
    "plt.legend(loc='best')\n",
    "plt.subplot(224)\n",
    "plt.plot(residual, label='Residuals', color=\"blue\")\n",
    "plt.legend(loc='best')\n",
    "plt.tight_layout()"
   ]
  },
  {
   "cell_type": "markdown",
   "metadata": {},
   "source": [
    "#### 34474"
   ]
  },
  {
   "cell_type": "code",
   "execution_count": null,
   "metadata": {
    "ExecuteTime": {
     "start_time": "2021-03-04T13:16:48.750Z"
    }
   },
   "outputs": [],
   "source": [
    "# import seasonal_decompose\n",
    "from statsmodels.tsa.seasonal import seasonal_decompose\n",
    "decomposition = seasonal_decompose(rolmean['34474'])\n",
    "\n",
    "# Gather the trend, seasonality and noise of decomposed object\n",
    "trend = decomposition.trend\n",
    "seasonal = decomposition.seasonal\n",
    "residual = decomposition.resid\n",
    "\n",
    "# Plot gathered statistics\n",
    "plt.figure(figsize=(12,8))\n",
    "plt.subplot(221)\n",
    "plt.plot(rolmean, label='Original', color=\"blue\")\n",
    "plt.legend(loc='best')\n",
    "plt.subplot(222)\n",
    "plt.plot(trend, label='Trend', color=\"blue\")\n",
    "plt.legend(loc='best')\n",
    "plt.subplot(223)\n",
    "plt.plot(seasonal,label='Seasonality', color=\"blue\")\n",
    "plt.legend(loc='best')\n",
    "plt.subplot(224)\n",
    "plt.plot(residual, label='Residuals', color=\"blue\")\n",
    "plt.legend(loc='best')\n",
    "plt.tight_layout()"
   ]
  },
  {
   "cell_type": "markdown",
   "metadata": {},
   "source": [
    "#### 34476"
   ]
  },
  {
   "cell_type": "code",
   "execution_count": null,
   "metadata": {
    "ExecuteTime": {
     "start_time": "2021-03-04T13:16:48.756Z"
    }
   },
   "outputs": [],
   "source": [
    "# import seasonal_decompose\n",
    "from statsmodels.tsa.seasonal import seasonal_decompose\n",
    "decomposition = seasonal_decompose(rolmean['34476'])\n",
    "\n",
    "# Gather the trend, seasonality and noise of decomposed object\n",
    "trend = decomposition.trend\n",
    "seasonal = decomposition.seasonal\n",
    "residual = decomposition.resid\n",
    "\n",
    "# Plot gathered statistics\n",
    "plt.figure(figsize=(12,8))\n",
    "plt.subplot(221)\n",
    "plt.plot(rolmean, label='Original', color=\"blue\")\n",
    "plt.legend(loc='best')\n",
    "plt.subplot(222)\n",
    "plt.plot(trend, label='Trend', color=\"blue\")\n",
    "plt.legend(loc='best')\n",
    "plt.subplot(223)\n",
    "plt.plot(seasonal,label='Seasonality', color=\"blue\")\n",
    "plt.legend(loc='best')\n",
    "plt.subplot(224)\n",
    "plt.plot(residual, label='Residuals', color=\"blue\")\n",
    "plt.legend(loc='best')\n",
    "plt.tight_layout()"
   ]
  },
  {
   "cell_type": "markdown",
   "metadata": {},
   "source": [
    "#### 34480"
   ]
  },
  {
   "cell_type": "code",
   "execution_count": null,
   "metadata": {
    "ExecuteTime": {
     "start_time": "2021-03-04T13:16:48.761Z"
    }
   },
   "outputs": [],
   "source": [
    "# import seasonal_decompose\n",
    "from statsmodels.tsa.seasonal import seasonal_decompose\n",
    "decomposition = seasonal_decompose(rolmean['34480'])\n",
    "\n",
    "# Gather the trend, seasonality and noise of decomposed object\n",
    "trend = decomposition.trend\n",
    "seasonal = decomposition.seasonal\n",
    "residual = decomposition.resid\n",
    "\n",
    "# Plot gathered statistics\n",
    "plt.figure(figsize=(12,8))\n",
    "plt.subplot(221)\n",
    "plt.plot(rolmean, label='Original', color=\"blue\")\n",
    "plt.legend(loc='best')\n",
    "plt.subplot(222)\n",
    "plt.plot(trend, label='Trend', color=\"blue\")\n",
    "plt.legend(loc='best')\n",
    "plt.subplot(223)\n",
    "plt.plot(seasonal,label='Seasonality', color=\"blue\")\n",
    "plt.legend(loc='best')\n",
    "plt.subplot(224)\n",
    "plt.plot(residual, label='Residuals', color=\"blue\")\n",
    "plt.legend(loc='best')\n",
    "plt.tight_layout()"
   ]
  },
  {
   "cell_type": "markdown",
   "metadata": {},
   "source": [
    "#### 34482"
   ]
  },
  {
   "cell_type": "code",
   "execution_count": null,
   "metadata": {
    "ExecuteTime": {
     "start_time": "2021-03-04T13:16:48.767Z"
    }
   },
   "outputs": [],
   "source": [
    "# import seasonal_decompose\n",
    "from statsmodels.tsa.seasonal import seasonal_decompose\n",
    "decomposition = seasonal_decompose(rolmean['34471'])\n",
    "\n",
    "# Gather the trend, seasonality and noise of decomposed object\n",
    "trend = decomposition.trend\n",
    "seasonal = decomposition.seasonal\n",
    "residual = decomposition.resid\n",
    "\n",
    "# Plot gathered statistics\n",
    "plt.figure(figsize=(12,8))\n",
    "plt.subplot(221)\n",
    "plt.plot(rolmean, label='Original', color=\"blue\")\n",
    "plt.legend(loc='best')\n",
    "plt.subplot(222)\n",
    "plt.plot(trend, label='Trend', color=\"blue\")\n",
    "plt.legend(loc='best')\n",
    "plt.subplot(223)\n",
    "plt.plot(seasonal,label='Seasonality', color=\"blue\")\n",
    "plt.legend(loc='best')\n",
    "plt.subplot(224)\n",
    "plt.plot(residual, label='Residuals', color=\"blue\")\n",
    "plt.legend(loc='best')\n",
    "plt.tight_layout()"
   ]
  },
  {
   "cell_type": "markdown",
   "metadata": {},
   "source": [
    "#### Dropping NAN"
   ]
  },
  {
   "cell_type": "code",
   "execution_count": null,
   "metadata": {
    "ExecuteTime": {
     "start_time": "2021-03-04T13:16:48.775Z"
    },
    "scrolled": true
   },
   "outputs": [],
   "source": [
    "df_Ocala_dc=decomposition.resid.dropna()\n",
    "df_Ocala_dc.tail()"
   ]
  },
  {
   "cell_type": "markdown",
   "metadata": {},
   "source": [
    "### Auto Correlation"
   ]
  },
  {
   "cell_type": "code",
   "execution_count": null,
   "metadata": {
    "ExecuteTime": {
     "start_time": "2021-03-04T13:16:48.780Z"
    }
   },
   "outputs": [],
   "source": [
    "from statsmodels.graphics.tsaplots import plot_acf,plot_pacf # for determining (p,q) orders"
   ]
  },
  {
   "cell_type": "code",
   "execution_count": null,
   "metadata": {
    "ExecuteTime": {
     "start_time": "2021-03-04T13:16:48.785Z"
    }
   },
   "outputs": [],
   "source": [
    "Ocala_diff.head(15) "
   ]
  },
  {
   "cell_type": "markdown",
   "metadata": {},
   "source": [
    "#### 34471 "
   ]
  },
  {
   "cell_type": "code",
   "execution_count": null,
   "metadata": {
    "ExecuteTime": {
     "start_time": "2021-03-04T13:16:48.790Z"
    }
   },
   "outputs": [],
   "source": [
    "plt.figure(figsize=(12,5))\n",
    "pd.plotting.autocorrelation_plot(log_71);"
   ]
  },
  {
   "cell_type": "markdown",
   "metadata": {},
   "source": [
    "##### Auto Correlation at 40 lags \n",
    "- The red line meets the dotted line at around 40 lags"
   ]
  },
  {
   "cell_type": "code",
   "execution_count": null,
   "metadata": {
    "ExecuteTime": {
     "start_time": "2021-03-04T13:16:48.796Z"
    }
   },
   "outputs": [],
   "source": [
    "title = 'Autocorrelation: Ocala 34471'\n",
    "lags = 40\n",
    "plot_acf(df_Ocala['34471'],title=title,lags=lags);"
   ]
  },
  {
   "cell_type": "markdown",
   "metadata": {},
   "source": [
    "#### 34474"
   ]
  },
  {
   "cell_type": "code",
   "execution_count": null,
   "metadata": {
    "ExecuteTime": {
     "start_time": "2021-03-04T13:16:48.801Z"
    }
   },
   "outputs": [],
   "source": [
    "plt.figure(figsize=(12,5))\n",
    "pd.plotting.autocorrelation_plot(log_74);"
   ]
  },
  {
   "cell_type": "markdown",
   "metadata": {},
   "source": [
    "##### Auto Correlation at 40 lags \n",
    "- The red line meets the dotted line at around 40 lags"
   ]
  },
  {
   "cell_type": "code",
   "execution_count": null,
   "metadata": {
    "ExecuteTime": {
     "start_time": "2021-03-04T13:16:48.807Z"
    }
   },
   "outputs": [],
   "source": [
    "title = 'Autocorrelation: Ocala 34474'\n",
    "lags = 40\n",
    "plot_acf(df_Ocala['34474'],title=title,lags=lags);"
   ]
  },
  {
   "cell_type": "markdown",
   "metadata": {},
   "source": [
    "#### 34476 "
   ]
  },
  {
   "cell_type": "code",
   "execution_count": null,
   "metadata": {
    "ExecuteTime": {
     "start_time": "2021-03-04T13:16:48.812Z"
    }
   },
   "outputs": [],
   "source": [
    "plt.figure(figsize=(12,5))\n",
    "pd.plotting.autocorrelation_plot(log_76);"
   ]
  },
  {
   "cell_type": "markdown",
   "metadata": {},
   "source": [
    "##### Auto Correlation at 40 lags \n",
    "- The red line meets the dotted line at around 40 lags"
   ]
  },
  {
   "cell_type": "code",
   "execution_count": null,
   "metadata": {
    "ExecuteTime": {
     "start_time": "2021-03-04T13:16:48.817Z"
    }
   },
   "outputs": [],
   "source": [
    "title = 'Autocorrelation: Ocala 34476'\n",
    "lags = 40\n",
    "plot_acf(df_Ocala['34476'],title=title,lags=lags);"
   ]
  },
  {
   "cell_type": "markdown",
   "metadata": {},
   "source": [
    "#### 34480"
   ]
  },
  {
   "cell_type": "code",
   "execution_count": null,
   "metadata": {
    "ExecuteTime": {
     "start_time": "2021-03-04T13:16:48.822Z"
    }
   },
   "outputs": [],
   "source": [
    "plt.figure(figsize=(12,5))\n",
    "pd.plotting.autocorrelation_plot(log_80);"
   ]
  },
  {
   "cell_type": "markdown",
   "metadata": {},
   "source": [
    "##### Auto Correlation at 40 lags \n",
    "- The red line meets the dotted line at around 40 lags"
   ]
  },
  {
   "cell_type": "code",
   "execution_count": null,
   "metadata": {
    "ExecuteTime": {
     "start_time": "2021-03-04T13:16:48.828Z"
    }
   },
   "outputs": [],
   "source": [
    "title = 'Autocorrelation: Ocala 34480'\n",
    "lags = 40\n",
    "plot_acf(df_Ocala['34480'],title=title,lags=lags);"
   ]
  },
  {
   "cell_type": "markdown",
   "metadata": {},
   "source": [
    "#### 34482"
   ]
  },
  {
   "cell_type": "code",
   "execution_count": null,
   "metadata": {
    "ExecuteTime": {
     "start_time": "2021-03-04T13:16:48.833Z"
    },
    "scrolled": false
   },
   "outputs": [],
   "source": [
    "plt.figure(figsize=(12,5))\n",
    "pd.plotting.autocorrelation_plot(log_82);"
   ]
  },
  {
   "cell_type": "markdown",
   "metadata": {},
   "source": [
    "##### Auto Correlation at 40 lags \n",
    "- The red line meets the dotted line at around 40 lags"
   ]
  },
  {
   "cell_type": "code",
   "execution_count": null,
   "metadata": {
    "ExecuteTime": {
     "start_time": "2021-03-04T13:16:48.838Z"
    }
   },
   "outputs": [],
   "source": [
    "from statsmodels.graphics.tsaplots import plot_acf,plot_pacf # for determining (p,q) orders\n",
    "title = 'Autocorrelation: Ocala 34482'\n",
    "lags = 40\n",
    "plot_acf(df_Ocala['34482'],title=title,lags=lags);"
   ]
  },
  {
   "cell_type": "code",
   "execution_count": null,
   "metadata": {},
   "outputs": [],
   "source": []
  }
 ],
 "metadata": {
  "kernelspec": {
   "display_name": "Python 3",
   "language": "python",
   "name": "python3"
  },
  "language_info": {
   "codemirror_mode": {
    "name": "ipython",
    "version": 3
   },
   "file_extension": ".py",
   "mimetype": "text/x-python",
   "name": "python",
   "nbconvert_exporter": "python",
   "pygments_lexer": "ipython3",
   "version": "3.6.9"
  },
  "toc": {
   "base_numbering": 1,
   "nav_menu": {},
   "number_sections": false,
   "sideBar": true,
   "skip_h1_title": false,
   "title_cell": "Table of Contents",
   "title_sidebar": "Contents",
   "toc_cell": false,
   "toc_position": {},
   "toc_section_display": true,
   "toc_window_display": true
  },
  "varInspector": {
   "cols": {
    "lenName": 16,
    "lenType": 16,
    "lenVar": 40
   },
   "kernels_config": {
    "python": {
     "delete_cmd_postfix": "",
     "delete_cmd_prefix": "del ",
     "library": "var_list.py",
     "varRefreshCmd": "print(var_dic_list())"
    },
    "r": {
     "delete_cmd_postfix": ") ",
     "delete_cmd_prefix": "rm(",
     "library": "var_list.r",
     "varRefreshCmd": "cat(var_dic_list()) "
    }
   },
   "types_to_exclude": [
    "module",
    "function",
    "builtin_function_or_method",
    "instance",
    "_Feature"
   ],
   "window_display": false
  }
 },
 "nbformat": 4,
 "nbformat_minor": 2
}
